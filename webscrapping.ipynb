{
 "cells": [
  {
   "cell_type": "code",
   "execution_count": 1,
   "id": "5ef5c7cc-4bbf-4618-8eca-b0d1b5cef9b0",
   "metadata": {},
   "outputs": [],
   "source": [
    "#steps in webscrapping:\n",
    "#we use requests package to connect to the desired web page(status-200)\n",
    "#we will use beautifulsoup libraray to parse the data from the webpage and store them in lists or dicts\n",
    "#analysing the html tags from our specific fields\n",
    "#store the data in the csv or xlsx files."
   ]
  },
  {
   "cell_type": "code",
   "execution_count": 2,
   "id": "9d3cd9dc-70ac-41c2-924a-202024b5eb77",
   "metadata": {},
   "outputs": [],
   "source": [
    "#HTTP response status codes:\n",
    "#HTTP response status codes indicate whether a specific HTTP  request has been successfully completed.\n",
    "#Responses are grouped in five classes:\n",
    "#1.Informational responses(100-199)\n",
    "#2.Successful responses(200-299)\n",
    "#3.Redirection messages(300-399)\n",
    "#4.Client error responses(400-499)\n",
    "#5.Server error responses(500-599)"
   ]
  },
  {
   "cell_type": "code",
   "execution_count": 3,
   "id": "28c96fea-871e-4c98-871f-871aa8fbbe8e",
   "metadata": {},
   "outputs": [],
   "source": [
    "#pip install requests"
   ]
  },
  {
   "cell_type": "code",
   "execution_count": 4,
   "id": "b1eb4e8a-b9e5-4a4e-ad67-ccafddb3b4c2",
   "metadata": {},
   "outputs": [],
   "source": [
    "#pip install bs4"
   ]
  },
  {
   "cell_type": "code",
   "execution_count": 5,
   "id": "a5c6e5ba-52e7-43d3-a223-394f0cad6038",
   "metadata": {},
   "outputs": [],
   "source": [
    "import requests"
   ]
  },
  {
   "cell_type": "code",
   "execution_count": 6,
   "id": "2f6abc86-207c-41a8-a7e2-d4b339e5c337",
   "metadata": {},
   "outputs": [],
   "source": [
    "import bs4"
   ]
  },
  {
   "cell_type": "code",
   "execution_count": 7,
   "id": "15303a34-431b-470b-bfe8-02c34d4510d9",
   "metadata": {},
   "outputs": [],
   "source": [
    "url=\"https://www.makaan.com/hyderabad-residential-property/buy-property-in-hyderabad-city\""
   ]
  },
  {
   "cell_type": "code",
   "execution_count": 8,
   "id": "21a7da26-8d2a-4774-b239-c1e4b29fa308",
   "metadata": {},
   "outputs": [
    {
     "data": {
      "text/plain": [
       "<Response [200]>"
      ]
     },
     "execution_count": 8,
     "metadata": {},
     "output_type": "execute_result"
    }
   ],
   "source": [
    "data=requests.get(url)\n",
    "data"
   ]
  },
  {
   "cell_type": "code",
   "execution_count": 9,
   "id": "36ee6464-1924-4263-be0c-e49fbfc6fea0",
   "metadata": {},
   "outputs": [
    {
     "data": {
      "text/plain": [
       "str"
      ]
     },
     "execution_count": 9,
     "metadata": {},
     "output_type": "execute_result"
    }
   ],
   "source": [
    "data.text\n",
    "type(data.text)"
   ]
  },
  {
   "cell_type": "code",
   "execution_count": 10,
   "id": "8688b30e-88d0-42ab-ac90-fd3175a01149",
   "metadata": {},
   "outputs": [],
   "source": [
    "from bs4 import BeautifulSoup"
   ]
  },
  {
   "cell_type": "code",
   "execution_count": 11,
   "id": "13aa39c0-7be3-4cd4-b008-6d90cdc192ba",
   "metadata": {},
   "outputs": [],
   "source": [
    "soup=BeautifulSoup(data.text,\"html\")"
   ]
  },
  {
   "cell_type": "code",
   "execution_count": 12,
   "id": "39f65aea-9a9e-4aaf-bfeb-5656878dfe5e",
   "metadata": {},
   "outputs": [
    {
     "data": {
      "text/plain": [
       "'3 BHK Apartment in Vedanta Towers'"
      ]
     },
     "execution_count": 12,
     "metadata": {},
     "output_type": "execute_result"
    }
   ],
   "source": [
    "soup.find('div',attrs={\"class\":\"title-line\"}).text"
   ]
  },
  {
   "cell_type": "code",
   "execution_count": 13,
   "id": "43955ea6-beab-4fb2-8322-e1e2246189f1",
   "metadata": {},
   "outputs": [
    {
     "data": {
      "text/plain": [
       "'Gajulramaram Kukatpally'"
      ]
     },
     "execution_count": 13,
     "metadata": {},
     "output_type": "execute_result"
    }
   ],
   "source": [
    "soup.find('span',attrs={\"itemprop\":\"addressLocality\"}).text"
   ]
  },
  {
   "cell_type": "code",
   "execution_count": 14,
   "id": "009757fc-6424-4387-9811-01e52de98e6d",
   "metadata": {},
   "outputs": [
    {
     "data": {
      "text/plain": [
       "' 91.12 L'"
      ]
     },
     "execution_count": 14,
     "metadata": {},
     "output_type": "execute_result"
    }
   ],
   "source": [
    "soup.find('div',attrs={\"data-type\":\"price-link\"}).text"
   ]
  },
  {
   "cell_type": "code",
   "execution_count": 15,
   "id": "dacf0829-1278-4d3c-b365-312ab7b809df",
   "metadata": {},
   "outputs": [
    {
     "data": {
      "text/plain": [
       "'5,917 / sq ft'"
      ]
     },
     "execution_count": 15,
     "metadata": {},
     "output_type": "execute_result"
    }
   ],
   "source": [
    "soup.find('td',attrs={\"class\":\"lbl rate\"}).text"
   ]
  },
  {
   "cell_type": "code",
   "execution_count": 16,
   "id": "500b5c86-8b6f-46c1-86b3-4b89333a0ca1",
   "metadata": {},
   "outputs": [
    {
     "data": {
      "text/plain": [
       "'1540 '"
      ]
     },
     "execution_count": 16,
     "metadata": {},
     "output_type": "execute_result"
    }
   ],
   "source": [
    "soup.find('td',attrs={\"class\":\"size\"}).text"
   ]
  },
  {
   "cell_type": "code",
   "execution_count": 17,
   "id": "16461a37-6a78-4aec-9686-09761096b28c",
   "metadata": {},
   "outputs": [
    {
     "data": {
      "text/plain": [
       "'Under Construction'"
      ]
     },
     "execution_count": 17,
     "metadata": {},
     "output_type": "execute_result"
    }
   ],
   "source": [
    "soup.find('td',attrs={\"class\":\"val\"}).text"
   ]
  },
  {
   "cell_type": "code",
   "execution_count": null,
   "id": "b42c5e46-19f1-460c-811f-40db7a3ed841",
   "metadata": {},
   "outputs": [],
   "source": []
  }
 ],
 "metadata": {
  "kernelspec": {
   "display_name": "Python 3 (ipykernel)",
   "language": "python",
   "name": "python3"
  },
  "language_info": {
   "codemirror_mode": {
    "name": "ipython",
    "version": 3
   },
   "file_extension": ".py",
   "mimetype": "text/x-python",
   "name": "python",
   "nbconvert_exporter": "python",
   "pygments_lexer": "ipython3",
   "version": "3.11.9"
  }
 },
 "nbformat": 4,
 "nbformat_minor": 5
}
